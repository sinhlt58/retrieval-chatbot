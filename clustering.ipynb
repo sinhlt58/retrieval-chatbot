{
 "cells": [
  {
   "cell_type": "code",
   "execution_count": 10,
   "metadata": {
    "collapsed": true
   },
   "outputs": [],
   "source": [
    "import pandas as pd\n"
   ]
  },
  {
   "cell_type": "code",
   "execution_count": 29,
   "metadata": {
    "collapsed": true
   },
   "outputs": [],
   "source": [
    "excel_file = \"data/sach_mem/human_res_concat.xlsx\""
   ]
  },
  {
   "cell_type": "code",
   "execution_count": 11,
   "metadata": {
    "collapsed": false
   },
   "outputs": [],
   "source": [
    "df = pd.read_excel(excel_file, encoding=\"utf-8\")"
   ]
  },
  {
   "cell_type": "code",
   "execution_count": 12,
   "metadata": {
    "collapsed": false
   },
   "outputs": [
    {
     "data": {
      "text/html": [
       "<div>\n",
       "<style scoped>\n",
       "    .dataframe tbody tr th:only-of-type {\n",
       "        vertical-align: middle;\n",
       "    }\n",
       "\n",
       "    .dataframe tbody tr th {\n",
       "        vertical-align: top;\n",
       "    }\n",
       "\n",
       "    .dataframe thead th {\n",
       "        text-align: right;\n",
       "    }\n",
       "</style>\n",
       "<table border=\"1\" class=\"dataframe\">\n",
       "  <thead>\n",
       "    <tr style=\"text-align: right;\">\n",
       "      <th></th>\n",
       "      <th>Unnamed: 0</th>\n",
       "      <th>user_id</th>\n",
       "      <th>human_res_concat_array</th>\n",
       "      <th>timestamps</th>\n",
       "      <th>human_res_concat</th>\n",
       "      <th>start_timestamp</th>\n",
       "      <th>end_timestamp</th>\n",
       "      <th>human_res_concat_pre</th>\n",
       "      <th>id</th>\n",
       "    </tr>\n",
       "  </thead>\n",
       "  <tbody>\n",
       "    <tr>\n",
       "      <th>0</th>\n",
       "      <td>357</td>\n",
       "      <td>2116249875086719</td>\n",
       "      <td>['1. Bạn đăng nhập vào email đã sử dụng để đăn...</td>\n",
       "      <td>[1540863101.0]</td>\n",
       "      <td>1. Bạn đăng nhập vào email đã sử dụng để đăng ...</td>\n",
       "      <td>1.540863e+09</td>\n",
       "      <td>1.540863e+09</td>\n",
       "      <td>1 bạn đăng nhập vào email đã sử dụng để đăng k...</td>\n",
       "      <td>2116249875086719_1540863101.0_1540863101.0</td>\n",
       "    </tr>\n",
       "    <tr>\n",
       "      <th>1</th>\n",
       "      <td>3325</td>\n",
       "      <td>2389802941138269</td>\n",
       "      <td>['1. Kiểm tra mã của hai cuốn tiếng anh lớp 6 ...</td>\n",
       "      <td>[1568015451.3170002, 1568015482.323]</td>\n",
       "      <td>1. Kiểm tra mã của hai cuốn tiếng anh lớp 6 tậ...</td>\n",
       "      <td>1.568015e+09</td>\n",
       "      <td>1.568015e+09</td>\n",
       "      <td>1 kiểm tra mã của hai cuốn tiếng anh lớp 6 tập...</td>\n",
       "      <td>2389802941138269_1568015451.3170002_1568015482...</td>\n",
       "    </tr>\n",
       "    <tr>\n",
       "      <th>2</th>\n",
       "      <td>2940</td>\n",
       "      <td>3176566909035169</td>\n",
       "      <td>['1. mã seri b17 hiện không còn sản xuất, mã k...</td>\n",
       "      <td>[1566890917.7229998, 1566890942.019]</td>\n",
       "      <td>1. mã seri b17 hiện không còn sản xuất, mã kíc...</td>\n",
       "      <td>1.566891e+09</td>\n",
       "      <td>1.566891e+09</td>\n",
       "      <td>1 mã seri b17 hiện không còn sản xuất mã kích ...</td>\n",
       "      <td>3176566909035169_1566890917.7229998_1566890942...</td>\n",
       "    </tr>\n",
       "    <tr>\n",
       "      <th>3</th>\n",
       "      <td>3271</td>\n",
       "      <td>1969296013171105</td>\n",
       "      <td>['1- Ở phần xác nhận địa chỉ email bạn phải nh...</td>\n",
       "      <td>[1567994851.405]</td>\n",
       "      <td>1- Ở phần xác nhận địa chỉ email bạn phải nhập...</td>\n",
       "      <td>1.567995e+09</td>\n",
       "      <td>1.567995e+09</td>\n",
       "      <td>1 ở phần xác nhận địa chỉ email bạn phải nhập ...</td>\n",
       "      <td>1969296013171105_1567994851.405_1567994851.405</td>\n",
       "    </tr>\n",
       "    <tr>\n",
       "      <th>4</th>\n",
       "      <td>2177</td>\n",
       "      <td>3169798166371261</td>\n",
       "      <td>['15/08/2020']</td>\n",
       "      <td>[1564364955.939]</td>\n",
       "      <td>15/08/2020</td>\n",
       "      <td>1.564365e+09</td>\n",
       "      <td>1.564365e+09</td>\n",
       "      <td>15 08 2020</td>\n",
       "      <td>3169798166371261_1564364955.939_1564364955.939</td>\n",
       "    </tr>\n",
       "    <tr>\n",
       "      <th>...</th>\n",
       "      <td>...</td>\n",
       "      <td>...</td>\n",
       "      <td>...</td>\n",
       "      <td>...</td>\n",
       "      <td>...</td>\n",
       "      <td>...</td>\n",
       "      <td>...</td>\n",
       "      <td>...</td>\n",
       "      <td>...</td>\n",
       "    </tr>\n",
       "    <tr>\n",
       "      <th>5400</th>\n",
       "      <td>2350</td>\n",
       "      <td>2520770944640092</td>\n",
       "      <td>['���Sách Mềm OFFLINE!!!���\\r\\n�Để giúp các lớ...</td>\n",
       "      <td>[1565140707.401]</td>\n",
       "      <td>���Sách Mềm OFFLINE!!!���\\n�Để giúp các lớp họ...</td>\n",
       "      <td>1.565141e+09</td>\n",
       "      <td>1.565141e+09</td>\n",
       "      <td>���sách mềm offline ��� �để giúp các lớp học c...</td>\n",
       "      <td>2520770944640092_1565140707.401_1565140707.401</td>\n",
       "    </tr>\n",
       "    <tr>\n",
       "      <th>5401</th>\n",
       "      <td>2703</td>\n",
       "      <td>2339116869475939</td>\n",
       "      <td>['���Sách Mềm OFFLINE!!!���\\r\\n�Để giúp các lớ...</td>\n",
       "      <td>[1566264384.492]</td>\n",
       "      <td>���Sách Mềm OFFLINE!!!���\\n�Để giúp các lớp họ...</td>\n",
       "      <td>1.566264e+09</td>\n",
       "      <td>1.566264e+09</td>\n",
       "      <td>���sách mềm offline ��� �để giúp các lớp học c...</td>\n",
       "      <td>2339116869475939_1566264384.492_1566264384.492</td>\n",
       "    </tr>\n",
       "    <tr>\n",
       "      <th>5402</th>\n",
       "      <td>2465</td>\n",
       "      <td>2454552087973027</td>\n",
       "      <td>['���Sách Mềm OFFLINE!!!���\\r\\n�Để giúp các lớ...</td>\n",
       "      <td>[1565572707.303]</td>\n",
       "      <td>���Sách Mềm OFFLINE!!!���\\n�Để giúp các lớp họ...</td>\n",
       "      <td>1.565573e+09</td>\n",
       "      <td>1.565573e+09</td>\n",
       "      <td>���sách mềm offline ��� �để giúp các lớp học c...</td>\n",
       "      <td>2454552087973027_1565572707.303_1565572707.303</td>\n",
       "    </tr>\n",
       "    <tr>\n",
       "      <th>5403</th>\n",
       "      <td>2685</td>\n",
       "      <td>2436557163069233</td>\n",
       "      <td>['���Sách Mềm OFFLINE!!!���\\r\\n�Để giúp các lớ...</td>\n",
       "      <td>[1566201091.894, 1566201110.431]</td>\n",
       "      <td>���Sách Mềm OFFLINE!!!���\\n�Để giúp các lớp họ...</td>\n",
       "      <td>1.566201e+09</td>\n",
       "      <td>1.566201e+09</td>\n",
       "      <td>���sách mềm offline ��� �để giúp các lớp học c...</td>\n",
       "      <td>2436557163069233_1566201091.894_1566201110.431</td>\n",
       "    </tr>\n",
       "    <tr>\n",
       "      <th>5404</th>\n",
       "      <td>2879</td>\n",
       "      <td>2422199711231723</td>\n",
       "      <td>['🛎🛎THÔNG BÁO \\n\\n💥Đội ngũ phát triển Sách Mềm...</td>\n",
       "      <td>[1572326917.5470002]</td>\n",
       "      <td>🛎🛎THÔNG BÁO \\n\\n💥Đội ngũ phát triển Sách Mềm x...</td>\n",
       "      <td>1.572327e+09</td>\n",
       "      <td>1.572327e+09</td>\n",
       "      <td>🛎🛎thông báo 💥đội ngũ phát triển sách mềm xin t...</td>\n",
       "      <td>2422199711231723_1572326917.5470002_1572326917...</td>\n",
       "    </tr>\n",
       "  </tbody>\n",
       "</table>\n",
       "<p>5405 rows × 9 columns</p>\n",
       "</div>"
      ],
      "text/plain": [
       "      Unnamed: 0           user_id  \\\n",
       "0            357  2116249875086719   \n",
       "1           3325  2389802941138269   \n",
       "2           2940  3176566909035169   \n",
       "3           3271  1969296013171105   \n",
       "4           2177  3169798166371261   \n",
       "...          ...               ...   \n",
       "5400        2350  2520770944640092   \n",
       "5401        2703  2339116869475939   \n",
       "5402        2465  2454552087973027   \n",
       "5403        2685  2436557163069233   \n",
       "5404        2879  2422199711231723   \n",
       "\n",
       "                                 human_res_concat_array  \\\n",
       "0     ['1. Bạn đăng nhập vào email đã sử dụng để đăn...   \n",
       "1     ['1. Kiểm tra mã của hai cuốn tiếng anh lớp 6 ...   \n",
       "2     ['1. mã seri b17 hiện không còn sản xuất, mã k...   \n",
       "3     ['1- Ở phần xác nhận địa chỉ email bạn phải nh...   \n",
       "4                                        ['15/08/2020']   \n",
       "...                                                 ...   \n",
       "5400  ['���Sách Mềm OFFLINE!!!���\\r\\n�Để giúp các lớ...   \n",
       "5401  ['���Sách Mềm OFFLINE!!!���\\r\\n�Để giúp các lớ...   \n",
       "5402  ['���Sách Mềm OFFLINE!!!���\\r\\n�Để giúp các lớ...   \n",
       "5403  ['���Sách Mềm OFFLINE!!!���\\r\\n�Để giúp các lớ...   \n",
       "5404  ['🛎🛎THÔNG BÁO \\n\\n💥Đội ngũ phát triển Sách Mềm...   \n",
       "\n",
       "                                timestamps  \\\n",
       "0                           [1540863101.0]   \n",
       "1     [1568015451.3170002, 1568015482.323]   \n",
       "2     [1566890917.7229998, 1566890942.019]   \n",
       "3                         [1567994851.405]   \n",
       "4                         [1564364955.939]   \n",
       "...                                    ...   \n",
       "5400                      [1565140707.401]   \n",
       "5401                      [1566264384.492]   \n",
       "5402                      [1565572707.303]   \n",
       "5403      [1566201091.894, 1566201110.431]   \n",
       "5404                  [1572326917.5470002]   \n",
       "\n",
       "                                       human_res_concat  start_timestamp  \\\n",
       "0     1. Bạn đăng nhập vào email đã sử dụng để đăng ...     1.540863e+09   \n",
       "1     1. Kiểm tra mã của hai cuốn tiếng anh lớp 6 tậ...     1.568015e+09   \n",
       "2     1. mã seri b17 hiện không còn sản xuất, mã kíc...     1.566891e+09   \n",
       "3     1- Ở phần xác nhận địa chỉ email bạn phải nhập...     1.567995e+09   \n",
       "4                                            15/08/2020     1.564365e+09   \n",
       "...                                                 ...              ...   \n",
       "5400  ���Sách Mềm OFFLINE!!!���\\n�Để giúp các lớp họ...     1.565141e+09   \n",
       "5401  ���Sách Mềm OFFLINE!!!���\\n�Để giúp các lớp họ...     1.566264e+09   \n",
       "5402  ���Sách Mềm OFFLINE!!!���\\n�Để giúp các lớp họ...     1.565573e+09   \n",
       "5403  ���Sách Mềm OFFLINE!!!���\\n�Để giúp các lớp họ...     1.566201e+09   \n",
       "5404  🛎🛎THÔNG BÁO \\n\\n💥Đội ngũ phát triển Sách Mềm x...     1.572327e+09   \n",
       "\n",
       "      end_timestamp                               human_res_concat_pre  \\\n",
       "0      1.540863e+09  1 bạn đăng nhập vào email đã sử dụng để đăng k...   \n",
       "1      1.568015e+09  1 kiểm tra mã của hai cuốn tiếng anh lớp 6 tập...   \n",
       "2      1.566891e+09  1 mã seri b17 hiện không còn sản xuất mã kích ...   \n",
       "3      1.567995e+09  1 ở phần xác nhận địa chỉ email bạn phải nhập ...   \n",
       "4      1.564365e+09                                         15 08 2020   \n",
       "...             ...                                                ...   \n",
       "5400   1.565141e+09  ���sách mềm offline ��� �để giúp các lớp học c...   \n",
       "5401   1.566264e+09  ���sách mềm offline ��� �để giúp các lớp học c...   \n",
       "5402   1.565573e+09  ���sách mềm offline ��� �để giúp các lớp học c...   \n",
       "5403   1.566201e+09  ���sách mềm offline ��� �để giúp các lớp học c...   \n",
       "5404   1.572327e+09  🛎🛎thông báo 💥đội ngũ phát triển sách mềm xin t...   \n",
       "\n",
       "                                                     id  \n",
       "0            2116249875086719_1540863101.0_1540863101.0  \n",
       "1     2389802941138269_1568015451.3170002_1568015482...  \n",
       "2     3176566909035169_1566890917.7229998_1566890942...  \n",
       "3        1969296013171105_1567994851.405_1567994851.405  \n",
       "4        3169798166371261_1564364955.939_1564364955.939  \n",
       "...                                                 ...  \n",
       "5400     2520770944640092_1565140707.401_1565140707.401  \n",
       "5401     2339116869475939_1566264384.492_1566264384.492  \n",
       "5402     2454552087973027_1565572707.303_1565572707.303  \n",
       "5403     2436557163069233_1566201091.894_1566201110.431  \n",
       "5404  2422199711231723_1572326917.5470002_1572326917...  \n",
       "\n",
       "[5405 rows x 9 columns]"
      ]
     },
     "execution_count": 12,
     "metadata": {},
     "output_type": "execute_result"
    }
   ],
   "source": [
    "df"
   ]
  },
  {
   "cell_type": "code",
   "execution_count": 19,
   "metadata": {
    "collapsed": false
   },
   "outputs": [],
   "source": [
    "from sklearn.cluster import OPTICS\n",
    "from sklearn.feature_extraction.text import TfidfVectorizer\n",
    "\n",
    "vectorizer = TfidfVectorizer(ngram_range=(1, 2))\n",
    "X = vectorizer.fit_transform(df[\"human_res_concat_pre\"]).toarray()"
   ]
  },
  {
   "cell_type": "code",
   "execution_count": 21,
   "metadata": {
    "collapsed": false
   },
   "outputs": [
    {
     "data": {
      "text/plain": [
       "(5405, 15601)"
      ]
     },
     "execution_count": 21,
     "metadata": {},
     "output_type": "execute_result"
    }
   ],
   "source": [
    "X.shape"
   ]
  },
  {
   "cell_type": "code",
   "execution_count": 22,
   "metadata": {
    "collapsed": false
   },
   "outputs": [
    {
     "name": "stderr",
     "output_type": "stream",
     "text": [
      "D:\\works\\retrieval-chatbot\\.env\\Lib\\site-packages\\sklearn\\cluster\\_optics.py:802: RuntimeWarning: divide by zero encountered in true_divide\n",
      "  ratio = reachability_plot[:-1] / reachability_plot[1:]\n"
     ]
    },
    {
     "data": {
      "text/plain": [
       "OPTICS(algorithm='auto', cluster_method='xi', eps=None, leaf_size=30,\n",
       "       max_eps=inf, metric='minkowski', metric_params=None,\n",
       "       min_cluster_size=None, min_samples=5, n_jobs=None, p=2,\n",
       "       predecessor_correction=True, xi=0.05)"
      ]
     },
     "execution_count": 22,
     "metadata": {},
     "output_type": "execute_result"
    }
   ],
   "source": [
    "clustering = OPTICS(min_samples=5)\n",
    "\n",
    "clustering.fit(X)"
   ]
  },
  {
   "cell_type": "code",
   "execution_count": 25,
   "metadata": {
    "collapsed": false
   },
   "outputs": [
    {
     "data": {
      "text/plain": [
       "(5405,)"
      ]
     },
     "execution_count": 25,
     "metadata": {},
     "output_type": "execute_result"
    }
   ],
   "source": [
    "clustering.labels_.shape"
   ]
  },
  {
   "cell_type": "code",
   "execution_count": 27,
   "metadata": {
    "collapsed": false
   },
   "outputs": [],
   "source": [
    "df[\"cluster_label\"] = clustering.labels_"
   ]
  },
  {
   "cell_type": "code",
   "execution_count": 31,
   "metadata": {
    "collapsed": true
   },
   "outputs": [],
   "source": [
    "df2 = df.sort_values(by=[\"cluster_label\", \"human_res_concat_pre\"])"
   ]
  },
  {
   "cell_type": "code",
   "execution_count": 32,
   "metadata": {
    "collapsed": false
   },
   "outputs": [],
   "source": [
    "df2.to_excel(excel_file, encoding=\"utf-8\")"
   ]
  },
  {
   "cell_type": "code",
   "execution_count": 46,
   "metadata": {
    "collapsed": false
   },
   "outputs": [],
   "source": [
    "plot = pd.value_counts(df2[\"cluster_label\"]).plot.bar(figsize=(40, 6))\n",
    "\n",
    "figure = plot.get_figure()\n",
    "figure.savefig(\"data/sach_mem/optics.png\")"
   ]
  },
  {
   "cell_type": "code",
   "execution_count": 52,
   "metadata": {
    "collapsed": true
   },
   "outputs": [],
   "source": [
    "def plot_to_file(df, x_key, rot, figsize, out_folder, file_name):\n",
    "    out_path = \"{}/{}.png\".format(out_folder, file_name)\n",
    "    ax = df.plot.bar(x=x_key, rot=rot, figsize=figsize)\n",
    "    for p in ax.patches:\n",
    "        ax.annotate(str(p.get_height()), (p.get_x(), p.get_height()))\n",
    "    # count for each column legend\n",
    "    columns = list(df.columns)\n",
    "    columns.remove(x_key)\n",
    "    legends = []\n",
    "    for c in columns:\n",
    "        s = df[c].values.sum()\n",
    "        legend = \"{} - {}\".format(s, c)\n",
    "        legends.append(legend)\n",
    "    ax.legend(legends)\n",
    "\n",
    "    fig = ax.get_figure()\n",
    "    fig.savefig(out_path)\n",
    "    print (\"Write file {}\".format(out_path))"
   ]
  },
  {
   "cell_type": "code",
   "execution_count": 54,
   "metadata": {
    "collapsed": false
   },
   "outputs": [
    {
     "name": "stdout",
     "output_type": "stream",
     "text": [
      "Write file data/sach_mem/optics.png\n"
     ]
    }
   ],
   "source": [
    "label_count_df = df2.groupby([\"cluster_label\"]).size().reset_index(name=\"count\")\n",
    "label_count_df = label_count_df.sort_values(by=\"count\", ascending=False)\n",
    "\n",
    "plot_to_file(label_count_df, \"cluster_label\", 90, (80, 6), \"data/sach_mem\", \"optics\")"
   ]
  },
  {
   "cell_type": "code",
   "execution_count": 36,
   "metadata": {
    "collapsed": false
   },
   "outputs": [],
   "source": [
    "import pickle\n",
    "\n",
    "with open(\"data/sach_mem/optics_clustering.pkl\", \"wb\") as f:\n",
    "    pickle.dump(clustering, f)"
   ]
  },
  {
   "cell_type": "code",
   "execution_count": null,
   "metadata": {
    "collapsed": true
   },
   "outputs": [],
   "source": []
  }
 ],
 "metadata": {
  "kernelspec": {
   "display_name": "Python 3",
   "language": "python",
   "name": "python3"
  },
  "language_info": {
   "codemirror_mode": {
    "name": "ipython",
    "version": 3
   },
   "file_extension": ".py",
   "mimetype": "text/x-python",
   "name": "python",
   "nbconvert_exporter": "python",
   "pygments_lexer": "ipython3",
   "version": "3.6.7"
  }
 },
 "nbformat": 4,
 "nbformat_minor": 0
}
